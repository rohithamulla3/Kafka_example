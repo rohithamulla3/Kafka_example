{
 "cells": [
  {
   "cell_type": "code",
   "execution_count": 1,
   "id": "95206f0d-f37b-40be-b1a6-ed93ffec9ae0",
   "metadata": {},
   "outputs": [
    {
     "name": "stdout",
     "output_type": "stream",
     "text": [
      "Requirement already satisfied: kafka-python in c:\\users\\rohit\\anaconda3\\lib\\site-packages (2.1.5)\n",
      "Requirement already satisfied: psycopg2-binary in c:\\users\\rohit\\anaconda3\\lib\\site-packages (2.9.10)\n"
     ]
    }
   ],
   "source": [
    "!pip install kafka-python psycopg2-binary\n"
   ]
  },
  {
   "cell_type": "code",
   "execution_count": 3,
   "id": "e8bc3310-e485-4a7a-89fc-330df5a7272f",
   "metadata": {},
   "outputs": [],
   "source": [
    "from kafka import KafkaConsumer\n",
    "import json\n",
    "import psycopg2\n",
    "from datetime import datetime"
   ]
  },
  {
   "cell_type": "code",
   "execution_count": 5,
   "id": "f4b534cf-0a5f-4cfd-b370-8a70cd375f77",
   "metadata": {},
   "outputs": [],
   "source": [
    "conn = psycopg2.connect(\n",
    "    dbname=\"kafka_orders\",\n",
    "    user=\"rohith\",\n",
    "    password=\"rohith5799\",\n",
    "    host=\"localhost\",\n",
    "    port=\"5433\"\n",
    ")\n",
    "cursor = conn.cursor()"
   ]
  },
  {
   "cell_type": "code",
   "execution_count": 7,
   "id": "6e548fbe-4b3e-497b-b7b6-42157e0268a7",
   "metadata": {},
   "outputs": [],
   "source": [
    "cursor.execute(\"\"\"\n",
    "CREATE TABLE IF NOT EXISTS orders (\n",
    "    order_id UUID PRIMARY KEY,\n",
    "    customer_id INT,\n",
    "    product_name VARCHAR(100),\n",
    "    category VARCHAR(50),\n",
    "    quantity INT,\n",
    "    unit_price DECIMAL(10,2),\n",
    "    total_amount DECIMAL(10,2),\n",
    "    payment_method VARCHAR(50),\n",
    "    shipping_country VARCHAR(50),\n",
    "    timestamp TIMESTAMP\n",
    ");\n",
    "\"\"\")\n",
    "conn.commit()"
   ]
  },
  {
   "cell_type": "code",
   "execution_count": null,
   "id": "4371041c-2a95-48e1-a92b-ae8b7466d890",
   "metadata": {},
   "outputs": [
    {
     "name": "stdout",
     "output_type": "stream",
     "text": [
      "📥 Inserted: c53ff6de-fa42-4142-a967-e40ee835aa9c\n",
      "📥 Inserted: 748e2aff-3609-401e-9cd1-1df2a00eee51\n",
      "📥 Inserted: 2282adcc-a4e1-47e0-a8c7-a63de2532ff7\n",
      "📥 Inserted: fc3e02ff-135f-4630-a447-a8572a9c7168\n",
      "📥 Inserted: e191dd39-0493-4d2e-82fd-218c8d575aed\n",
      "📥 Inserted: 32129ae6-2305-41cd-9c83-548802a12abf\n",
      "📥 Inserted: 548ef0aa-339f-4622-9238-9e1342d221e5\n",
      "📥 Inserted: edb8f8af-1110-471b-969f-80675f758660\n",
      "📥 Inserted: b18eb086-adcd-415d-8513-7e6fd81c7439\n",
      "📥 Inserted: 9c5506bd-d094-4267-b977-7a750d885b38\n",
      "📥 Inserted: b15b0aa1-db2a-4eba-a321-cf0ed862b2aa\n",
      "📥 Inserted: 9bd3717f-c4bd-4210-8163-3159a8d9b702\n",
      "📥 Inserted: 5368aa40-b421-4260-b30c-0aea68d60fb9\n",
      "📥 Inserted: 23d0c466-5d9c-401c-bf33-63ea91f6d4b4\n",
      "📥 Inserted: 22cd5281-c34b-4c3a-b32e-68d7ca26164f\n",
      "📥 Inserted: 552b3983-c253-439b-b1a4-ab495a3f7182\n",
      "📥 Inserted: 9ddf54ae-eecd-47f2-9313-6554f4ede9a0\n",
      "📥 Inserted: 0f2ba0a6-c76b-4e5e-bfa2-1f6cf8796b1b\n",
      "📥 Inserted: 1b98de81-0699-4fd9-a7d7-94c5591279e8\n",
      "📥 Inserted: cc731745-ecb3-47f7-940c-afb1801a720e\n",
      "📥 Inserted: 51546bcd-778b-4492-9001-0d8569b146e6\n",
      "📥 Inserted: 1867386e-901e-4ab2-b546-b177ae88c4c8\n",
      "📥 Inserted: 3f96105c-098e-45e4-95af-08165178973e\n",
      "📥 Inserted: f3d3535a-abbb-4efa-93e1-b91b7ff066dc\n",
      "📥 Inserted: 8f2646d5-108b-44b3-93bd-a1d240bb0876\n"
     ]
    }
   ],
   "source": [
    "consumer = KafkaConsumer(\n",
    "    'orders',\n",
    "    bootstrap_servers=['localhost:9092'],\n",
    "    value_deserializer=lambda x: json.loads(x.decode('utf-8')),\n",
    "    auto_offset_reset='earliest',\n",
    "    enable_auto_commit=True,\n",
    "    group_id='order-consumer-group'\n",
    ")\n",
    "\n",
    "for message in consumer:\n",
    "    order = message.value\n",
    "    cursor.execute(\"\"\"\n",
    "        INSERT INTO orders (\n",
    "            order_id, customer_id, product_name, category,\n",
    "            quantity, unit_price, total_amount,\n",
    "            payment_method, shipping_country, timestamp\n",
    "        ) VALUES (%s, %s, %s, %s, %s, %s, %s, %s, %s, %s)\n",
    "        ON CONFLICT (order_id) DO NOTHING;\n",
    "    \"\"\", (\n",
    "        order['order_id'],\n",
    "        order['customer_id'],\n",
    "        order['product_name'],\n",
    "        order['category'],\n",
    "        order['quantity'],\n",
    "        order['unit_price'],\n",
    "        order['total_amount'],\n",
    "        order['payment_method'],\n",
    "        order['shipping_country'],\n",
    "        datetime.fromisoformat(order['timestamp'].replace(\"Z\", \"\"))\n",
    "    ))\n",
    "\n",
    "    conn.commit()\n",
    "    print(f\"📥 Inserted: {order['order_id']}\")\n"
   ]
  },
  {
   "cell_type": "code",
   "execution_count": null,
   "id": "7381b42d-ca39-46dd-9603-69fb4ffe5863",
   "metadata": {},
   "outputs": [],
   "source": []
  }
 ],
 "metadata": {
  "kernelspec": {
   "display_name": "Python 3 (ipykernel)",
   "language": "python",
   "name": "python3"
  },
  "language_info": {
   "codemirror_mode": {
    "name": "ipython",
    "version": 3
   },
   "file_extension": ".py",
   "mimetype": "text/x-python",
   "name": "python",
   "nbconvert_exporter": "python",
   "pygments_lexer": "ipython3",
   "version": "3.12.4"
  }
 },
 "nbformat": 4,
 "nbformat_minor": 5
}
