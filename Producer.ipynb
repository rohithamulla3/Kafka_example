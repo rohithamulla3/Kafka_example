{
 "cells": [
  {
   "cell_type": "code",
   "execution_count": 1,
   "id": "ac07b4b8-df38-4635-8dd1-099b63ae579e",
   "metadata": {},
   "outputs": [
    {
     "name": "stdout",
     "output_type": "stream",
     "text": [
      "Requirement already satisfied: kafka-python in c:\\users\\rohit\\anaconda3\\lib\\site-packages (2.1.5)\n"
     ]
    }
   ],
   "source": [
    "!pip install kafka-python"
   ]
  },
  {
   "cell_type": "code",
   "execution_count": 3,
   "id": "78ae705c-b39e-4926-b772-830c05e48dec",
   "metadata": {},
   "outputs": [],
   "source": [
    "from kafka import KafkaProducer\n",
    "import json\n",
    "import time\n",
    "import random\n",
    "from datetime import datetime\n",
    "import uuid"
   ]
  },
  {
   "cell_type": "code",
   "execution_count": 5,
   "id": "b21b7e8a-5bef-48d0-bbfa-434b0db1c2fd",
   "metadata": {},
   "outputs": [],
   "source": [
    "producer = KafkaProducer(\n",
    "    bootstrap_servers=['localhost:9092'],\n",
    "    value_serializer=lambda v: json.dumps(v).encode('utf-8')\n",
    ")"
   ]
  },
  {
   "cell_type": "code",
   "execution_count": 7,
   "id": "e3d7187d-0ef0-4925-8763-c54497b67bd3",
   "metadata": {},
   "outputs": [
    {
     "name": "stderr",
     "output_type": "stream",
     "text": [
      "C:\\Users\\rohit\\AppData\\Local\\Temp\\ipykernel_22848\\3690144201.py:26: DeprecationWarning: datetime.datetime.utcnow() is deprecated and scheduled for removal in a future version. Use timezone-aware objects to represent datetimes in UTC: datetime.datetime.now(datetime.UTC).\n",
      "  \"timestamp\": datetime.utcnow().isoformat()\n"
     ]
    },
    {
     "name": "stdout",
     "output_type": "stream",
     "text": [
      "✅ Sent: {'order_id': 'c53ff6de-fa42-4142-a967-e40ee835aa9c', 'customer_id': 1001, 'product_name': 'Coffee Mug', 'category': 'Kitchen', 'quantity': 4, 'unit_price': 333.4, 'total_amount': 1333.6, 'payment_method': 'Cash', 'shipping_country': 'UK', 'timestamp': '2025-04-09T19:38:35.067194'}\n",
      "✅ Sent: {'order_id': '748e2aff-3609-401e-9cd1-1df2a00eee51', 'customer_id': 1007, 'product_name': 'Chair', 'category': 'Furniture', 'quantity': 5, 'unit_price': 490.23, 'total_amount': 2451.15, 'payment_method': 'PayPal', 'shipping_country': 'UK', 'timestamp': '2025-04-09T19:38:40.073601'}\n",
      "✅ Sent: {'order_id': '2282adcc-a4e1-47e0-a8c7-a63de2532ff7', 'customer_id': 1017, 'product_name': 'Coffee Mug', 'category': 'Kitchen', 'quantity': 3, 'unit_price': 468.53, 'total_amount': 1405.59, 'payment_method': 'Credit Card', 'shipping_country': 'IN', 'timestamp': '2025-04-09T19:38:45.074422'}\n",
      "✅ Sent: {'order_id': 'fc3e02ff-135f-4630-a447-a8572a9c7168', 'customer_id': 1015, 'product_name': 'Chair', 'category': 'Furniture', 'quantity': 1, 'unit_price': 324.05, 'total_amount': 324.05, 'payment_method': 'Cash', 'shipping_country': 'UK', 'timestamp': '2025-04-09T19:38:50.075487'}\n",
      "✅ Sent: {'order_id': 'e191dd39-0493-4d2e-82fd-218c8d575aed', 'customer_id': 1009, 'product_name': 'Chair', 'category': 'Furniture', 'quantity': 2, 'unit_price': 160.49, 'total_amount': 320.98, 'payment_method': 'PayPal', 'shipping_country': 'UK', 'timestamp': '2025-04-09T19:38:55.076029'}\n",
      "✅ Sent: {'order_id': '32129ae6-2305-41cd-9c83-548802a12abf', 'customer_id': 1014, 'product_name': 'Coffee Mug', 'category': 'Kitchen', 'quantity': 3, 'unit_price': 231.13, 'total_amount': 693.39, 'payment_method': 'Cash', 'shipping_country': 'UK', 'timestamp': '2025-04-09T19:39:00.079369'}\n",
      "✅ Sent: {'order_id': '548ef0aa-339f-4622-9238-9e1342d221e5', 'customer_id': 1005, 'product_name': 'T-shirt', 'category': 'Apparel', 'quantity': 5, 'unit_price': 271.56, 'total_amount': 1357.8, 'payment_method': 'Cash', 'shipping_country': 'UK', 'timestamp': '2025-04-09T19:39:05.080065'}\n",
      "✅ Sent: {'order_id': 'edb8f8af-1110-471b-969f-80675f758660', 'customer_id': 1003, 'product_name': 'Laptop', 'category': 'Electronics', 'quantity': 3, 'unit_price': 296.89, 'total_amount': 890.67, 'payment_method': 'PayPal', 'shipping_country': 'CA', 'timestamp': '2025-04-09T19:39:10.083718'}\n",
      "✅ Sent: {'order_id': 'b18eb086-adcd-415d-8513-7e6fd81c7439', 'customer_id': 1017, 'product_name': 'Coffee Mug', 'category': 'Kitchen', 'quantity': 1, 'unit_price': 305.56, 'total_amount': 305.56, 'payment_method': 'UPI', 'shipping_country': 'UK', 'timestamp': '2025-04-09T19:39:15.085608'}\n",
      "✅ Sent: {'order_id': '9c5506bd-d094-4267-b977-7a750d885b38', 'customer_id': 1015, 'product_name': 'Chair', 'category': 'Furniture', 'quantity': 4, 'unit_price': 60.31, 'total_amount': 241.24, 'payment_method': 'Credit Card', 'shipping_country': 'UK', 'timestamp': '2025-04-09T19:39:20.087867'}\n",
      "✅ Sent: {'order_id': 'b15b0aa1-db2a-4eba-a321-cf0ed862b2aa', 'customer_id': 1020, 'product_name': 'Coffee Mug', 'category': 'Kitchen', 'quantity': 3, 'unit_price': 167.63, 'total_amount': 502.89, 'payment_method': 'UPI', 'shipping_country': 'UK', 'timestamp': '2025-04-09T19:39:25.088638'}\n",
      "✅ Sent: {'order_id': '9bd3717f-c4bd-4210-8163-3159a8d9b702', 'customer_id': 1013, 'product_name': 'Laptop', 'category': 'Electronics', 'quantity': 2, 'unit_price': 30.37, 'total_amount': 60.74, 'payment_method': 'Credit Card', 'shipping_country': 'US', 'timestamp': '2025-04-09T19:39:30.089814'}\n",
      "✅ Sent: {'order_id': '5368aa40-b421-4260-b30c-0aea68d60fb9', 'customer_id': 1003, 'product_name': 'T-shirt', 'category': 'Apparel', 'quantity': 5, 'unit_price': 125.17, 'total_amount': 625.85, 'payment_method': 'UPI', 'shipping_country': 'UK', 'timestamp': '2025-04-09T19:39:35.091538'}\n",
      "✅ Sent: {'order_id': '23d0c466-5d9c-401c-bf33-63ea91f6d4b4', 'customer_id': 1010, 'product_name': 'Coffee Mug', 'category': 'Kitchen', 'quantity': 5, 'unit_price': 295.8, 'total_amount': 1479.0, 'payment_method': 'Cash', 'shipping_country': 'CA', 'timestamp': '2025-04-09T19:39:40.092655'}\n",
      "✅ Sent: {'order_id': '22cd5281-c34b-4c3a-b32e-68d7ca26164f', 'customer_id': 1015, 'product_name': 'T-shirt', 'category': 'Apparel', 'quantity': 5, 'unit_price': 358.11, 'total_amount': 1790.55, 'payment_method': 'Cash', 'shipping_country': 'IN', 'timestamp': '2025-04-09T19:39:45.095085'}\n",
      "✅ Sent: {'order_id': '552b3983-c253-439b-b1a4-ab495a3f7182', 'customer_id': 1003, 'product_name': 'Coffee Mug', 'category': 'Kitchen', 'quantity': 4, 'unit_price': 205.1, 'total_amount': 820.4, 'payment_method': 'UPI', 'shipping_country': 'UK', 'timestamp': '2025-04-09T19:39:50.096198'}\n",
      "✅ Sent: {'order_id': '9ddf54ae-eecd-47f2-9313-6554f4ede9a0', 'customer_id': 1004, 'product_name': 'T-shirt', 'category': 'Apparel', 'quantity': 3, 'unit_price': 314.82, 'total_amount': 944.46, 'payment_method': 'UPI', 'shipping_country': 'IN', 'timestamp': '2025-04-09T19:39:55.097480'}\n",
      "✅ Sent: {'order_id': '0f2ba0a6-c76b-4e5e-bfa2-1f6cf8796b1b', 'customer_id': 1012, 'product_name': 'Chair', 'category': 'Furniture', 'quantity': 3, 'unit_price': 110.58, 'total_amount': 331.74, 'payment_method': 'Credit Card', 'shipping_country': 'US', 'timestamp': '2025-04-09T19:40:00.099711'}\n",
      "✅ Sent: {'order_id': '1b98de81-0699-4fd9-a7d7-94c5591279e8', 'customer_id': 1001, 'product_name': 'Laptop', 'category': 'Electronics', 'quantity': 1, 'unit_price': 143.31, 'total_amount': 143.31, 'payment_method': 'Cash', 'shipping_country': 'US', 'timestamp': '2025-04-09T19:40:05.102653'}\n",
      "✅ Sent: {'order_id': 'cc731745-ecb3-47f7-940c-afb1801a720e', 'customer_id': 1013, 'product_name': 'Coffee Mug', 'category': 'Kitchen', 'quantity': 5, 'unit_price': 450.78, 'total_amount': 2253.9, 'payment_method': 'UPI', 'shipping_country': 'IN', 'timestamp': '2025-04-09T19:40:10.104648'}\n"
     ]
    }
   ],
   "source": [
    "products = [\n",
    "    {'name': 'Laptop', 'category': 'Electronics'},\n",
    "    {'name': 'Chair', 'category': 'Furniture'},\n",
    "    {'name': 'T-shirt', 'category': 'Apparel'},\n",
    "    {'name': 'Coffee Mug', 'category': 'Kitchen'},\n",
    "]\n",
    "\n",
    "customer_ids = list(range(1001, 1021))\n",
    "payment_methods = ['Credit Card', 'PayPal', 'UPI', 'Cash']\n",
    "shipping_countries = ['US', 'IN', 'UK', 'CA']\n",
    "\n",
    "for _ in range(20):  # simulate 20 messages\n",
    "    product = random.choice(products)\n",
    "    quantity = random.randint(1, 5)\n",
    "    unit_price = round(random.uniform(10, 500), 2)\n",
    "    order = {\n",
    "        \"order_id\": str(uuid.uuid4()),\n",
    "        \"customer_id\": random.choice(customer_ids),\n",
    "        \"product_name\": product['name'],\n",
    "        \"category\": product['category'],\n",
    "        \"quantity\": quantity,\n",
    "        \"unit_price\": unit_price,\n",
    "        \"total_amount\": round(quantity * unit_price, 2),\n",
    "        \"payment_method\": random.choice(payment_methods),\n",
    "        \"shipping_country\": random.choice(shipping_countries),\n",
    "        \"timestamp\": datetime.utcnow().isoformat()\n",
    "    }\n",
    "\n",
    "    producer.send('orders', value=order)\n",
    "    print(f\"✅ Sent: {order}\")\n",
    "    time.sleep(5)"
   ]
  },
  {
   "cell_type": "code",
   "execution_count": 9,
   "id": "b742fb4d-0e3f-4b30-a8e4-59ab89a84420",
   "metadata": {},
   "outputs": [
    {
     "name": "stderr",
     "output_type": "stream",
     "text": [
      "C:\\Users\\rohit\\AppData\\Local\\Temp\\ipykernel_22848\\3798571161.py:26: DeprecationWarning: datetime.datetime.utcnow() is deprecated and scheduled for removal in a future version. Use timezone-aware objects to represent datetimes in UTC: datetime.datetime.now(datetime.UTC).\n",
      "  \"timestamp\": datetime.utcnow().isoformat()\n"
     ]
    },
    {
     "name": "stdout",
     "output_type": "stream",
     "text": [
      "✅ Sent: {'order_id': '51546bcd-778b-4492-9001-0d8569b146e6', 'customer_id': 1003, 'product_name': 'Coffee Mug', 'category': 'Kitchen', 'quantity': 3, 'unit_price': 216.55, 'total_amount': 649.65, 'payment_method': 'Cash', 'shipping_country': 'US', 'timestamp': '2025-04-09T19:42:55.917369'}\n",
      "✅ Sent: {'order_id': '1867386e-901e-4ab2-b546-b177ae88c4c8', 'customer_id': 1009, 'product_name': 'Coffee Mug', 'category': 'Kitchen', 'quantity': 5, 'unit_price': 66.09, 'total_amount': 330.45, 'payment_method': 'PayPal', 'shipping_country': 'US', 'timestamp': '2025-04-09T19:43:00.918292'}\n",
      "✅ Sent: {'order_id': '3f96105c-098e-45e4-95af-08165178973e', 'customer_id': 1002, 'product_name': 'T-shirt', 'category': 'Apparel', 'quantity': 4, 'unit_price': 204.72, 'total_amount': 818.88, 'payment_method': 'Credit Card', 'shipping_country': 'UK', 'timestamp': '2025-04-09T19:43:05.919407'}\n",
      "✅ Sent: {'order_id': 'f3d3535a-abbb-4efa-93e1-b91b7ff066dc', 'customer_id': 1014, 'product_name': 'Coffee Mug', 'category': 'Kitchen', 'quantity': 3, 'unit_price': 35.5, 'total_amount': 106.5, 'payment_method': 'Credit Card', 'shipping_country': 'IN', 'timestamp': '2025-04-09T19:43:10.920447'}\n",
      "✅ Sent: {'order_id': '8f2646d5-108b-44b3-93bd-a1d240bb0876', 'customer_id': 1001, 'product_name': 'Laptop', 'category': 'Electronics', 'quantity': 2, 'unit_price': 379.15, 'total_amount': 758.3, 'payment_method': 'UPI', 'shipping_country': 'IN', 'timestamp': '2025-04-09T19:43:15.926043'}\n"
     ]
    }
   ],
   "source": [
    "products = [\n",
    "    {'name': 'Laptop', 'category': 'Electronics'},\n",
    "    {'name': 'Chair', 'category': 'Furniture'},\n",
    "    {'name': 'T-shirt', 'category': 'Apparel'},\n",
    "    {'name': 'Coffee Mug', 'category': 'Kitchen'},\n",
    "]\n",
    "\n",
    "customer_ids = list(range(1001, 1021))\n",
    "payment_methods = ['Credit Card', 'PayPal', 'UPI', 'Cash']\n",
    "shipping_countries = ['US', 'IN', 'UK', 'CA']\n",
    "\n",
    "for _ in range(5):  # simulate messages\n",
    "    product = random.choice(products)\n",
    "    quantity = random.randint(1, 5)\n",
    "    unit_price = round(random.uniform(10, 500), 2)\n",
    "    order = {\n",
    "        \"order_id\": str(uuid.uuid4()),\n",
    "        \"customer_id\": random.choice(customer_ids),\n",
    "        \"product_name\": product['name'],\n",
    "        \"category\": product['category'],\n",
    "        \"quantity\": quantity,\n",
    "        \"unit_price\": unit_price,\n",
    "        \"total_amount\": round(quantity * unit_price, 2),\n",
    "        \"payment_method\": random.choice(payment_methods),\n",
    "        \"shipping_country\": random.choice(shipping_countries),\n",
    "        \"timestamp\": datetime.utcnow().isoformat()\n",
    "    }\n",
    "\n",
    "    producer.send('orders', value=order)\n",
    "    print(f\"✅ Sent: {order}\")\n",
    "    time.sleep(5)"
   ]
  },
  {
   "cell_type": "code",
   "execution_count": null,
   "id": "9931cac1-1dc1-4e81-86c3-2279ee2c0d95",
   "metadata": {},
   "outputs": [],
   "source": []
  }
 ],
 "metadata": {
  "kernelspec": {
   "display_name": "Python 3 (ipykernel)",
   "language": "python",
   "name": "python3"
  },
  "language_info": {
   "codemirror_mode": {
    "name": "ipython",
    "version": 3
   },
   "file_extension": ".py",
   "mimetype": "text/x-python",
   "name": "python",
   "nbconvert_exporter": "python",
   "pygments_lexer": "ipython3",
   "version": "3.12.4"
  }
 },
 "nbformat": 4,
 "nbformat_minor": 5
}
